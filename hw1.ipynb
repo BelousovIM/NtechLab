{
 "cells": [
  {
   "cell_type": "code",
   "execution_count": 46,
   "metadata": {},
   "outputs": [],
   "source": [
    "def findMaxSubArray(A):\n",
    "    Max = float('-inf')\n",
    "    Sum = 0\n",
    "    start = start_best = end_best = 0\n",
    "    for end, a in enumerate(A):\n",
    "        Sum += a\n",
    "        if Sum > Max:\n",
    "            Max = Sum\n",
    "            start_best = start\n",
    "            end_best = end + 1\n",
    "        if Sum <= 0:\n",
    "            start = end + 1\n",
    "            Sum = 0\n",
    "    return A[start_best:end_best]"
   ]
  },
  {
   "cell_type": "code",
   "execution_count": 48,
   "metadata": {},
   "outputs": [
    {
     "name": "stdout",
     "output_type": "stream",
     "text": [
      "[4, -1, 2, 1]\n",
      "[0]\n",
      "[6]\n",
      "[-8]\n"
     ]
    }
   ],
   "source": [
    "print(findMaxSubArray([-2, 1, -3, 4, -1, 2, 1, -5, 4])) \n",
    "print(findMaxSubArray([-3, -2, 0, -10]))\n",
    "print(findMaxSubArray([-6, 6]))\n",
    "print(findMaxSubArray([-10, -9, -8]))"
   ]
  }
 ],
 "metadata": {
  "kernelspec": {
   "display_name": "Python 3",
   "language": "python",
   "name": "python3"
  },
  "language_info": {
   "codemirror_mode": {
    "name": "ipython",
    "version": 3
   },
   "file_extension": ".py",
   "mimetype": "text/x-python",
   "name": "python",
   "nbconvert_exporter": "python",
   "pygments_lexer": "ipython3",
   "version": "3.7.6"
  }
 },
 "nbformat": 4,
 "nbformat_minor": 4
}
